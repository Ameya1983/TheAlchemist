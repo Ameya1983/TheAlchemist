{
 "cells": [
  {
   "cell_type": "code",
   "execution_count": 1,
   "metadata": {},
   "outputs": [
    {
     "name": "stdout",
     "output_type": "stream",
     "text": [
      "Call Price is: 29.610282221098128\n"
     ]
    }
   ],
   "source": [
    "#Monte Carlo pricer using Euler's approximation\n",
    "import numpy as np\n",
    "import pandas as pd\n",
    "\n",
    "S0 = 200.\n",
    "T = 1.0\n",
    "K = 210.\n",
    "r = 0.07\n",
    "sigma = 0.35\n",
    "\n",
    "Iteration = 100000\n",
    "\n",
    "z = np.random.standard_normal(Iteration)\n",
    "ST = S0 * np.exp((r - 0.5 * sigma **2) * T + sigma * np.sqrt(T) * z)\n",
    "payoff = np.maximum(ST - K, 0)\n",
    "Call_Price = np.exp(-r * T) * np.sum(payoff) / Iteration\n",
    "print(\"Call Price is:\",Call_Price)\n"
   ]
  },
  {
   "cell_type": "code",
   "execution_count": null,
   "metadata": {
    "collapsed": true
   },
   "outputs": [],
   "source": []
  }
 ],
 "metadata": {
  "kernelspec": {
   "display_name": "Python 3",
   "language": "python",
   "name": "python3"
  },
  "language_info": {
   "codemirror_mode": {
    "name": "ipython",
    "version": 3
   },
   "file_extension": ".py",
   "mimetype": "text/x-python",
   "name": "python",
   "nbconvert_exporter": "python",
   "pygments_lexer": "ipython3",
   "version": "3.6.3"
  }
 },
 "nbformat": 4,
 "nbformat_minor": 2
}
